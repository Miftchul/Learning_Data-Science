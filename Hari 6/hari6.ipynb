{
 "cells": [
  {
   "cell_type": "markdown",
   "id": "2960e6f0",
   "metadata": {},
   "source": [
    "# Hari 6: Pengolahan Data Kategorikal dan Numerikal (Encoding dan Scaling)\n",
    "\n",
    "Notebook ini akan membahas berbagai teknik untuk mengolah data kategorikal dan numerikal, yang merupakan langkah penting dalam tahap pra-pemrosesan data sebelum membangun model machine learning."
   ]
  },
  {
   "cell_type": "markdown",
   "id": "834c4abc",
   "metadata": {},
   "source": [
    "## 1. Import Libraries"
   ]
  },
  {
   "cell_type": "code",
   "execution_count": 2,
   "id": "a9f9007b",
   "metadata": {},
   "outputs": [],
   "source": [
    "import pandas as pd\n",
    "import numpy as np\n",
    "from sklearn.preprocessing import LabelEncoder, OneHotEncoder, MinMaxScaler, StandardScaler\n",
    "from sklearn.compose import ColumnTransformer"
   ]
  },
  {
   "cell_type": "markdown",
   "id": "6c11d3fc",
   "metadata": {},
   "source": [
    "## 2. Membuat Dataset Contoh\n",
    "\n",
    "Kita akan membuat dataset contoh sederhana yang berisi data kategorikal dan numerikal."
   ]
  },
  {
   "cell_type": "code",
   "execution_count": 3,
   "id": "77b92d6e",
   "metadata": {},
   "outputs": [
    {
     "name": "stdout",
     "output_type": "stream",
     "text": [
      "Dataset Awal:\n",
      "   Gender      City  Age  Income Product_Purchased\n",
      "0    Male  New York   25   50000                 A\n",
      "1  Female    London   30   60000                 B\n",
      "2    Male     Paris   35   75000                 A\n",
      "3  Female     Tokyo   28   55000                 C\n",
      "4    Male  New York   40   90000                 B\n",
      "5  Female     Paris   22   45000                 A\n",
      "6    Male    London   45  120000                 C\n",
      "7  Female     Tokyo   33   65000                 B\n",
      "8    Male     Paris   29   58000                 A\n",
      "9  Female  New York   38   80000                 C\n"
     ]
    }
   ],
   "source": [
    "import pandas as pd\n",
    "# Membuat dictionary untuk data\n",
    "data = {\n",
    "    'Gender': ['Male', 'Female', 'Male', 'Female', 'Male', 'Female', 'Male', 'Female', 'Male', 'Female'],\n",
    "    'City': ['New York', 'London', 'Paris', 'Tokyo', 'New York', 'Paris', 'London', 'Tokyo', 'Paris', 'New York'],\n",
    "    'Age': [25, 30, 35, 28, 40, 22, 45, 33, 29, 38],\n",
    "    'Income': [50000, 60000, 75000, 55000, 90000, 45000, 120000, 65000, 58000, 80000],\n",
    "    'Product_Purchased': ['A', 'B', 'A', 'C', 'B', 'A', 'C', 'B', 'A', 'C']\n",
    "}\n",
    "\n",
    "# Membuat DataFrame\n",
    "df = pd.DataFrame(data)\n",
    "\n",
    "print(\"Dataset Awal:\")\n",
    "print(df)"
   ]
  },
  {
   "cell_type": "markdown",
   "id": "5474dadf",
   "metadata": {},
   "source": [
    "## 3. Pengolahan Data Kategorikal\n",
    "\n",
    "Data kategorikal perlu diubah menjadi format numerik agar dapat diproses oleh algoritma machine learning. Dua teknik umum adalah Label Encoding dan One-Hot Encoding."
   ]
  },
  {
   "cell_type": "markdown",
   "id": "2542dcac",
   "metadata": {},
   "source": [
    "### 3.1. Label Encoding\n",
    "\n",
    "Label Encoding mengubah setiap kategori unik menjadi sebuah angka integer. Cocok untuk variabel kategorikal ordinal (yang memiliki urutan)."
   ]
  },
  {
   "cell_type": "code",
   "execution_count": 4,
   "id": "deeb2003",
   "metadata": {},
   "outputs": [
    {
     "name": "stdout",
     "output_type": "stream",
     "text": [
      "Dataset setelah Label Encoding (Product_Purchased):\n",
      "  Product_Purchased  Product_Purchased_Encoded\n",
      "0                 A                          0\n",
      "1                 B                          1\n",
      "2                 A                          0\n",
      "3                 C                          2\n",
      "4                 B                          1\n",
      "5                 A                          0\n",
      "6                 C                          2\n",
      "7                 B                          1\n",
      "8                 A                          0\n",
      "9                 C                          2\n"
     ]
    }
   ],
   "source": [
    "# Membuat salinan DataFrame untuk Label Encoding\n",
    "df_label_encoded = df.copy()\n",
    "\n",
    "# Inisialisasi LabelEncoder\n",
    "label_encoder = LabelEncoder()\n",
    "\n",
    "# Terapkan Label Encoding pada kolom 'Product_Purchased' (asumsi ordinal)\n",
    "df_label_encoded['Product_Purchased_Encoded'] = label_encoder.fit_transform(df_label_encoded['Product_Purchased'])\n",
    "\n",
    "print(\"Dataset setelah Label Encoding (Product_Purchased):\")\n",
    "print(df_label_encoded[['Product_Purchased', 'Product_Purchased_Encoded']])"
   ]
  },
  {
   "cell_type": "markdown",
   "id": "31d1c32c",
   "metadata": {},
   "source": [
    "### 3.2. One-Hot Encoding\n",
    "\n",
    "One-Hot Encoding membuat kolom biner baru untuk setiap kategori unik. Cocok untuk variabel kategorikal nominal (yang tidak memiliki urutan) untuk menghindari asumsi urutan yang salah."
   ]
  },
  {
   "cell_type": "code",
   "execution_count": 5,
   "id": "4b36af42",
   "metadata": {},
   "outputs": [
    {
     "name": "stdout",
     "output_type": "stream",
     "text": [
      "Dataset setelah One-Hot Encoding (Gender & City):\n",
      "   Age  Income Product_Purchased  Gender_Female  Gender_Male  City_London  \\\n",
      "0   25   50000                 A          False         True        False   \n",
      "1   30   60000                 B           True        False         True   \n",
      "2   35   75000                 A          False         True        False   \n",
      "3   28   55000                 C           True        False        False   \n",
      "4   40   90000                 B          False         True        False   \n",
      "\n",
      "   City_New York  City_Paris  City_Tokyo  \n",
      "0           True       False       False  \n",
      "1          False       False       False  \n",
      "2          False        True       False  \n",
      "3          False       False        True  \n",
      "4           True       False       False  \n"
     ]
    }
   ],
   "source": [
    "# Membuat salinan DataFrame untuk One-Hot Encoding\n",
    "df_one_hot_encoded = df.copy()\n",
    "\n",
    "# Menggunakan pandas get_dummies untuk One-Hot Encoding yang lebih mudah\n",
    "df_one_hot_encoded = pd.get_dummies(df_one_hot_encoded, columns=['Gender', 'City'], prefix=['Gender', 'City'])\n",
    "\n",
    "print(\"Dataset setelah One-Hot Encoding (Gender & City):\")\n",
    "print(df_one_hot_encoded.head())"
   ]
  },
  {
   "cell_type": "markdown",
   "id": "50a54633",
   "metadata": {},
   "source": [
    "### 3.3. One-Hot Encoding menggunakan ColumnTransformer (lebih fleksibel)\n",
    "\n",
    "ColumnTransformer memungkinkan kita menerapkan transformasi berbeda pada kolom yang berbeda secara bersamaan."
   ]
  },
  {
   "cell_type": "code",
   "execution_count": 6,
   "id": "b176544d",
   "metadata": {},
   "outputs": [
    {
     "name": "stdout",
     "output_type": "stream",
     "text": [
      "Dataset setelah One-Hot Encoding menggunakan ColumnTransformer:\n",
      "  Gender_Female Gender_Male City_London City_New York City_Paris City_Tokyo  \\\n",
      "0           0.0         1.0         0.0           1.0        0.0        0.0   \n",
      "1           1.0         0.0         1.0           0.0        0.0        0.0   \n",
      "2           0.0         1.0         0.0           0.0        1.0        0.0   \n",
      "3           1.0         0.0         0.0           0.0        0.0        1.0   \n",
      "4           0.0         1.0         0.0           1.0        0.0        0.0   \n",
      "\n",
      "  Age Income Product_Purchased  \n",
      "0  25  50000                 A  \n",
      "1  30  60000                 B  \n",
      "2  35  75000                 A  \n",
      "3  28  55000                 C  \n",
      "4  40  90000                 B  \n"
     ]
    }
   ],
   "source": [
    "# Membuat salinan DataFrame\n",
    "df_col_transformer = df.copy()\n",
    "\n",
    "# Definisikan kolom kategorikal yang akan di-encode\n",
    "categorical_features = ['Gender', 'City']\n",
    "\n",
    "# Membuat ColumnTransformer\n",
    "# 'ohe' adalah nama transformer, OneHotEncoder() adalah estimatornya, dan categorical_features adalah kolom yang akan ditransformasi\n",
    "# remainder='passthrough' berarti kolom lain yang tidak disebutkan akan dibiarkan apa adanya\n",
    "preprocessor = ColumnTransformer(\n",
    "    transformers=[\n",
    "        ('ohe', OneHotEncoder(sparse_output=False, handle_unknown='ignore'), categorical_features)],\n",
    "    remainder='passthrough')\n",
    "\n",
    "# Terapkan ColumnTransformer\n",
    "df_transformed_data = preprocessor.fit_transform(df_col_transformer)\n",
    "\n",
    "# Mendapatkan nama kolom setelah One-Hot Encoding\n",
    "# OneHotEncoder menghasilkan nama fitur baru, kita perlu mengambilnya\n",
    "# Untuk fitur yang di-encode: preprocessor.named_transformers_['ohe'].get_feature_names_out(categorical_features)\n",
    "# Untuk fitur sisa: kolom numerik dan 'Product_Purchased'\n",
    "encoded_feature_names = preprocessor.named_transformers_['ohe'].get_feature_names_out(categorical_features)\n",
    "remainder_feature_names = [col for col in df_col_transformer.columns if col not in categorical_features]\n",
    "all_feature_names = list(encoded_feature_names) + remainder_feature_names\n",
    "\n",
    "# Konversi hasil transformasi kembali ke DataFrame\n",
    "df_col_transformed_final = pd.DataFrame(df_transformed_data, columns=all_feature_names)\n",
    "\n",
    "print(\"Dataset setelah One-Hot Encoding menggunakan ColumnTransformer:\")\n",
    "print(df_col_transformed_final.head())"
   ]
  },
  {
   "cell_type": "markdown",
   "id": "c6fdcbe1",
   "metadata": {},
   "source": [
    "## 4. Pengolahan Data Numerikal (Scaling)\n",
    "\n",
    "Scaling data numerikal penting untuk algoritma yang sensitif terhadap skala fitur, seperti SVM, KNN, dan regresi linear. Dua teknik umum adalah Normalisasi (Min-Max Scaling) dan Standardisasi (Z-score Scaling)."
   ]
  },
  {
   "cell_type": "markdown",
   "id": "a1c6fb31",
   "metadata": {},
   "source": [
    "### 4.1. Normalisasi (Min-Max Scaling)\n",
    "\n",
    "Mengubah skala fitur ke rentang tertentu, biasanya [0, 1].\n",
    "Formula: `X_scaled = (X - X_min) / (X_max - X_min)`"
   ]
  },
  {
   "cell_type": "code",
   "execution_count": 7,
   "id": "453e6722",
   "metadata": {},
   "outputs": [
    {
     "name": "stdout",
     "output_type": "stream",
     "text": [
      "Dataset setelah Min-Max Scaling (Age & Income):\n",
      "        Age    Income\n",
      "0  0.130435  0.066667\n",
      "1  0.347826  0.200000\n",
      "2  0.565217  0.400000\n",
      "3  0.260870  0.133333\n",
      "4  0.782609  0.600000\n"
     ]
    }
   ],
   "source": [
    "# Membuat salinan DataFrame untuk Min-Max Scaling\n",
    "df_min_max_scaled = df.copy()\n",
    "numerical_cols = ['Age', 'Income']\n",
    "\n",
    "# Inisialisasi MinMaxScaler\n",
    "min_max_scaler = MinMaxScaler()\n",
    "\n",
    "# Terapkan Min-Max Scaling pada kolom numerik\n",
    "df_min_max_scaled[numerical_cols] = min_max_scaler.fit_transform(df_min_max_scaled[numerical_cols])\n",
    "\n",
    "print(\"Dataset setelah Min-Max Scaling (Age & Income):\")\n",
    "print(df_min_max_scaled[numerical_cols].head())"
   ]
  },
  {
   "cell_type": "markdown",
   "id": "a50dbc1a",
   "metadata": {},
   "source": [
    "### 4.2. Standardisasi (Z-score Scaling)\n",
    "\n",
    "Mengubah skala fitur sehingga memiliki rata-rata 0 dan standar deviasi 1.\n",
    "Formula: `X_scaled = (X - mean(X)) / std(X)`"
   ]
  },
  {
   "cell_type": "code",
   "execution_count": 8,
   "id": "9726b0ce",
   "metadata": {},
   "outputs": [
    {
     "name": "stdout",
     "output_type": "stream",
     "text": [
      "Dataset setelah Standard Scaling (Age & Income):\n",
      "        Age    Income\n",
      "0 -1.112485 -0.928892\n",
      "1 -0.370828 -0.459755\n",
      "2  0.370828  0.243951\n",
      "3 -0.667491 -0.694323\n",
      "4  1.112485  0.947657\n"
     ]
    }
   ],
   "source": [
    "# Membuat salinan DataFrame untuk Standard Scaling\n",
    "df_standard_scaled = df.copy()\n",
    "\n",
    "# Inisialisasi StandardScaler\n",
    "standard_scaler = StandardScaler()\n",
    "\n",
    "# Terapkan Standard Scaling pada kolom numerik\n",
    "df_standard_scaled[numerical_cols] = standard_scaler.fit_transform(df_standard_scaled[numerical_cols])\n",
    "\n",
    "print(\"Dataset setelah Standard Scaling (Age & Income):\")\n",
    "print(df_standard_scaled[numerical_cols].head())"
   ]
  },
  {
   "cell_type": "markdown",
   "id": "772dece8",
   "metadata": {},
   "source": [
    "## 5. Menggabungkan Encoding dan Scaling menggunakan ColumnTransformer\n",
    "\n",
    "Kita dapat menggunakan ColumnTransformer untuk menerapkan encoding pada fitur kategorikal dan scaling pada fitur numerikal secara bersamaan."
   ]
  },
  {
   "cell_type": "code",
   "execution_count": 9,
   "id": "17c8a9c0",
   "metadata": {},
   "outputs": [
    {
     "name": "stdout",
     "output_type": "stream",
     "text": [
      "Dataset setelah Encoding Kategorikal dan Scaling Numerikal menggunakan ColumnTransformer:\n",
      "   Gender_Female  Gender_Male  City_London  City_New York  City_Paris  \\\n",
      "0            0.0          1.0          0.0            1.0         0.0   \n",
      "1            1.0          0.0          1.0            0.0         0.0   \n",
      "2            0.0          1.0          0.0            0.0         1.0   \n",
      "3            1.0          0.0          0.0            0.0         0.0   \n",
      "4            0.0          1.0          0.0            1.0         0.0   \n",
      "\n",
      "   City_Tokyo  Product_Purchased_A  Product_Purchased_B  Product_Purchased_C  \\\n",
      "0         0.0                  1.0                  0.0                  0.0   \n",
      "1         0.0                  0.0                  1.0                  0.0   \n",
      "2         0.0                  1.0                  0.0                  0.0   \n",
      "3         1.0                  0.0                  0.0                  1.0   \n",
      "4         0.0                  0.0                  1.0                  0.0   \n",
      "\n",
      "        Age    Income  \n",
      "0 -1.112485 -0.928892  \n",
      "1 -0.370828 -0.459755  \n",
      "2  0.370828  0.243951  \n",
      "3 -0.667491 -0.694323  \n",
      "4  1.112485  0.947657  \n"
     ]
    }
   ],
   "source": [
    "# Membuat salinan DataFrame\n",
    "df_full_preprocess = df.copy()\n",
    "\n",
    "# Definisikan kolom kategorikal dan numerikal\n",
    "categorical_features_final = ['Gender', 'City', 'Product_Purchased'] # Product_Purchased juga di-OHE di sini\n",
    "numerical_features_final = ['Age', 'Income']\n",
    "\n",
    "# Membuat pipeline untuk transformasi\n",
    "# Untuk fitur kategorikal: OneHotEncoder\n",
    "# Untuk fitur numerikal: StandardScaler\n",
    "preprocessor_final = ColumnTransformer(\n",
    "    transformers=[\n",
    "        ('cat', OneHotEncoder(sparse_output=False, handle_unknown='ignore'), categorical_features_final),\n",
    "        ('num', StandardScaler(), numerical_features_final)\n",
    "    ])\n",
    "\n",
    "# Terapkan preprocessor\n",
    "df_processed_data = preprocessor_final.fit_transform(df_full_preprocess)\n",
    "\n",
    "# Mendapatkan nama kolom setelah transformasi\n",
    "encoded_cat_feature_names = preprocessor_final.named_transformers_['cat'].get_feature_names_out(categorical_features_final)\n",
    "# Nama fitur numerik tidak berubah setelah StandardScaler\n",
    "all_processed_feature_names = list(encoded_cat_feature_names) + numerical_features_final\n",
    "\n",
    "# Konversi hasil transformasi kembali ke DataFrame\n",
    "df_fully_processed = pd.DataFrame(df_processed_data, columns=all_processed_feature_names)\n",
    "\n",
    "print(\"Dataset setelah Encoding Kategorikal dan Scaling Numerikal menggunakan ColumnTransformer:\")\n",
    "print(df_fully_processed.head())"
   ]
  },
  {
   "cell_type": "markdown",
   "id": "e2e4a73b",
   "metadata": {},
   "source": [
    "## 6. Kesimpulan\n",
    "\n",
    "Pengolahan data kategorikal (Encoding) dan numerikal (Scaling) adalah langkah krusial dalam pra-pemrosesan data. \n",
    "- **Label Encoding**: Cocok untuk data kategorikal ordinal.\n",
    "- **One-Hot Encoding**: Cocok untuk data kategorikal nominal, menghindari asumsi urutan yang salah. `pd.get_dummies` atau `ColumnTransformer` dengan `OneHotEncoder` dari scikit-learn dapat digunakan.\n",
    "- **Min-Max Scaling (Normalisasi)**: Menskalakan data ke rentang [0, 1]. Berguna jika distribusi data tidak Gaussian atau jika algoritma sensitif terhadap nilai absolut.\n",
    "- **Standard Scaling (Standardisasi)**: Menskalakan data sehingga memiliki mean 0 dan standar deviasi 1. Berguna jika data mengikuti distribusi Gaussian atau jika algoritma mengasumsikan data terdistribusi secara normal (misalnya, regresi linear, regresi logistik, LDA).\n",
    "\n",
    "Pemilihan teknik yang tepat tergantung pada jenis data dan algoritma machine learning yang akan digunakan."
   ]
  }
 ],
 "metadata": {
  "kernelspec": {
   "display_name": "Python 3",
   "language": "python",
   "name": "python3"
  },
  "language_info": {
   "codemirror_mode": {
    "name": "ipython",
    "version": 3
   },
   "file_extension": ".py",
   "mimetype": "text/x-python",
   "name": "python",
   "nbconvert_exporter": "python",
   "pygments_lexer": "ipython3",
   "version": "3.12.8"
  }
 },
 "nbformat": 4,
 "nbformat_minor": 5
}
